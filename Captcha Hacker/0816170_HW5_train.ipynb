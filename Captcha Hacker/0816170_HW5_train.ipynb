{
  "cells": [
    {
      "cell_type": "code",
      "execution_count": null,
      "metadata": {
        "id": "7aSejGNX2V7x"
      },
      "outputs": [],
      "source": [
        "import csv\n",
        "import cv2\n",
        "import numpy as np\n",
        "import random\n",
        "import os\n",
        "\n",
        "import torchvision\n",
        "import torch\n",
        "import torch.nn as nn\n",
        "from torchvision.io import read_image\n",
        "from torch.utils.data import Dataset, DataLoader"
      ]
    },
    {
      "cell_type": "code",
      "execution_count": null,
      "metadata": {
        "colab": {
          "base_uri": "https://localhost:8080/"
        },
        "id": "o_uAe1R_2V71",
        "outputId": "e8108f22-a097-4c13-c6eb-1b2df3841218"
      },
      "outputs": [
        {
          "name": "stdout",
          "output_type": "stream",
          "text": [
            "Drive already mounted at /content/drive; to attempt to forcibly remount, call drive.mount(\"/content/drive\", force_remount=True).\n"
          ]
        }
      ],
      "source": [
        "from google.colab import drive\n",
        "drive.mount('/content/drive')\n",
        "TRAIN_PATH = \"drive/MyDrive/captcha-hacker/train\"\n",
        "TEST_PATH = \"drive/MyDrive/captcha-hacker/test\"\n",
        "device = \"cuda\"\n",
        "# device = \"cpu\""
      ]
    },
    {
      "cell_type": "code",
      "execution_count": null,
      "metadata": {
        "id": "vAlmWuPr2V72"
      },
      "outputs": [],
      "source": [
        "\n",
        "class Task_Dataset(Dataset):\n",
        "    def __init__(self, data, root, task, return_filename=False):\n",
        "        if task == 1:\n",
        "          self.data = [sample for sample in data if sample[0].startswith(\"task1\")]\n",
        "        if task == 2:\n",
        "          self.data = [sample for sample in data if sample[0].startswith(\"task2\")]\n",
        "        if task == 3:\n",
        "          self.data = [sample for sample in data if sample[0].startswith(\"task3\")]\n",
        "        self.return_filename = return_filename\n",
        "        self.root = root\n",
        "        self.task = task\n",
        "    \n",
        "    def __getitem__(self, index):\n",
        "        \n",
        "        filename, label = self.data[index]\n",
        "        img_origin = read_image(f\"{self.root}/{filename}\")\n",
        "        img_trans = transform(img_origin)\n",
        "        if self.return_filename:\n",
        "            return torch.FloatTensor(img_trans / 255), filename\n",
        "        else:\n",
        "          if self.task == 1:\n",
        "            return torch.FloatTensor(img_trans / 255), int(label)\n",
        "          elif self.task == 2:\n",
        "            two_hot_table = [0 for i in range(72)]\n",
        "            for i in range(2):\n",
        "              if label[i].isdigit():\n",
        "                two_hot_table[int(ord(label[i])) - 48 + i * 36] =1\n",
        "              else:\n",
        "                two_hot_table[int(ord(label[i])) - 87 + i * 36] =1\n",
        "            return torch.FloatTensor(img_trans / 255), torch.tensor(two_hot_table)\n",
        "\n",
        "          elif self.task == 3:\n",
        "            four_hot_table = [0 for i in range(144)]\n",
        "            for i in range(4):\n",
        "              if label[i].isdigit():\n",
        "                four_hot_table[int(ord(label[i])) - 48 + i * 36] =1\n",
        "              else:\n",
        "                four_hot_table[int(ord(label[i])) - 87 + i * 36] =1\n",
        "            return torch.FloatTensor(img_trans / 255), torch.tensor(four_hot_table)\n",
        "\n",
        "\n",
        "    def __len__(self):\n",
        "        return len(self.data)\n",
        "    \n",
        "transform = torchvision.transforms.Compose([\n",
        "    torchvision.transforms.ToPILImage(), \n",
        "    torchvision.transforms.Resize(300), \n",
        "    torchvision.transforms.ToTensor(),\n",
        "    torchvision.transforms.Normalize([0.485, 0.456, 0.406], [0.229, 0.224, 0.225]) \n",
        "])"
      ]
    },
    {
      "cell_type": "code",
      "execution_count": 25,
      "metadata": {
        "colab": {
          "base_uri": "https://localhost:8080/"
        },
        "id": "LrLbnnzO2V73",
        "outputId": "101c09c0-2483-464a-a1ad-80714fdd782d"
      },
      "outputs": [
        {
          "output_type": "stream",
          "name": "stdout",
          "text": [
            "Epoch [0]\n",
            "Epoch [1]\n",
            "Epoch [2]\n",
            "Epoch [3]\n",
            "Epoch [4]\n",
            "Epoch [5]\n",
            "Epoch [6]\n",
            "Epoch [7]\n",
            "Epoch [8]\n",
            "Epoch [9]\n",
            "Epoch [10]\n",
            "Epoch [11]\n",
            "Epoch [12]\n",
            "Epoch [13]\n",
            "Epoch [14]\n"
          ]
        }
      ],
      "source": [
        "\n",
        "train_data = []\n",
        "val_data = []\n",
        "\n",
        "with open(\"drive/MyDrive/captcha-hacker/train/annotations.csv\", newline='') as csvfile:\n",
        "    for row in csv.reader(csvfile, delimiter=','):\n",
        "        if random.random() < 2:\n",
        "            train_data.append(row)\n",
        "        else:\n",
        "            val_data.append(row)\n",
        "\n",
        "train_ds = Task_Dataset(train_data, root=TRAIN_PATH, task = 1)\n",
        "train_dl = DataLoader(train_ds, batch_size=60, num_workers=4, drop_last=True, shuffle=True)\n",
        "\n",
        "val_ds = Task_Dataset(val_data, root=TRAIN_PATH, task = 1)\n",
        "val_dl = DataLoader(val_ds, batch_size=60, num_workers=4, drop_last=False, shuffle=False)\n",
        "model = torchvision.models.resnet18(pretrained = True).to(device)\n",
        "model.fc = nn.Linear(in_features = 512, out_features=10, bias=True).to(device)\n",
        "optimizer = torch.optim.Adam(model.parameters(), lr=1e-3)\n",
        "loss_fn = nn.CrossEntropyLoss()\n",
        "\n",
        "\n",
        "for epoch in range(15):\n",
        "    print(f\"Epoch [{epoch}]\")\n",
        "    model.train()\n",
        "    for image, label in train_dl:\n",
        "        image = image.to(device)\n",
        "        label = label.to(device)\n",
        "        \n",
        "        pred = model(image)\n",
        "        loss = loss_fn(pred, label)\n",
        "        \n",
        "        optimizer.zero_grad()\n",
        "        loss.backward()\n",
        "        optimizer.step()\n",
        "        \n",
        "    sample_count = 0\n",
        "    correct_count = 0\n",
        "    model.eval()\n",
        "\n",
        "torch.save(model.state_dict(), \"drive/MyDrive/model1\")\n"
      ]
    },
    {
      "cell_type": "code",
      "execution_count": 26,
      "metadata": {
        "colab": {
          "base_uri": "https://localhost:8080/"
        },
        "id": "CGD9p3aUK8-N",
        "outputId": "ac59be18-3de8-4a7d-c613-c7461c96fa0b"
      },
      "outputs": [
        {
          "output_type": "stream",
          "name": "stdout",
          "text": [
            "Epoch [0]\n",
            "Epoch [1]\n",
            "Epoch [2]\n",
            "Epoch [3]\n",
            "Epoch [4]\n",
            "Epoch [5]\n",
            "Epoch [6]\n",
            "Epoch [7]\n",
            "Epoch [8]\n",
            "Epoch [9]\n",
            "Epoch [10]\n",
            "Epoch [11]\n",
            "Epoch [12]\n",
            "Epoch [13]\n",
            "Epoch [14]\n",
            "Epoch [15]\n",
            "Epoch [16]\n",
            "Epoch [17]\n",
            "Epoch [18]\n",
            "Epoch [19]\n",
            "Epoch [20]\n",
            "Epoch [21]\n",
            "Epoch [22]\n",
            "Epoch [23]\n",
            "Epoch [24]\n",
            "Epoch [25]\n",
            "Epoch [26]\n",
            "Epoch [27]\n",
            "Epoch [28]\n",
            "Epoch [29]\n"
          ]
        }
      ],
      "source": [
        "##T2\n",
        "\n",
        "train_data = []\n",
        "val_data = []\n",
        "\n",
        "with open(\"drive/MyDrive/captcha-hacker/train/annotations.csv\", newline='') as csvfile:\n",
        "    for row in csv.reader(csvfile, delimiter=','):\n",
        "        if random.random() < 2:\n",
        "            train_data.append(row)\n",
        "        else:\n",
        "            val_data.append(row)\n",
        "\n",
        "train_ds = Task_Dataset(train_data, root=TRAIN_PATH, task = 2)\n",
        "train_dl = DataLoader(train_ds, batch_size=60, num_workers=4, drop_last=True, shuffle=True)\n",
        "\n",
        "val_ds = Task_Dataset(val_data, root=TRAIN_PATH, task = 2)\n",
        "val_dl = DataLoader(val_ds, batch_size=60, num_workers=4, drop_last=False, shuffle=False)\n",
        "\n",
        "model = torchvision.models.resnet18(pretrained = True).to(device)\n",
        "model.fc = nn.Linear(in_features = 512, out_features=72, bias=True).to(device)\n",
        "\n",
        "optimizer = torch.optim.Adam(model.parameters(), lr=1e-3)\n",
        "loss_fn = nn.MultiLabelSoftMarginLoss().to(device)\n",
        "\n",
        "max = 0\n",
        "for epoch in range(30):\n",
        "    print(f\"Epoch [{epoch}]\")\n",
        "    model.train()\n",
        "    for image, label in train_dl:\n",
        "        image = image.to(device)\n",
        "        label = label.to(device)\n",
        "        \n",
        "        pred = model(image)\n",
        "        loss = loss_fn(pred, label)\n",
        "        \n",
        "        optimizer.zero_grad()\n",
        "        loss.backward()\n",
        "        optimizer.step()\n",
        "torch.save(model.state_dict(), \"drive/MyDrive/model2\")\n",
        "\n"
      ]
    },
    {
      "cell_type": "code",
      "execution_count": 27,
      "metadata": {
        "colab": {
          "base_uri": "https://localhost:8080/"
        },
        "id": "_DadNekn2V74",
        "outputId": "7b6b3d5a-7972-45cf-9b60-90358a5f57a5"
      },
      "outputs": [
        {
          "output_type": "stream",
          "name": "stdout",
          "text": [
            "Epoch [0]\n",
            "Epoch [1]\n",
            "Epoch [2]\n",
            "Epoch [3]\n",
            "Epoch [4]\n",
            "Epoch [5]\n",
            "Epoch [6]\n",
            "Epoch [7]\n",
            "Epoch [8]\n",
            "Epoch [9]\n",
            "Epoch [10]\n",
            "Epoch [11]\n",
            "Epoch [12]\n",
            "Epoch [13]\n",
            "Epoch [14]\n",
            "Epoch [15]\n",
            "Epoch [16]\n",
            "Epoch [17]\n",
            "Epoch [18]\n",
            "Epoch [19]\n",
            "Epoch [20]\n",
            "Epoch [21]\n",
            "Epoch [22]\n",
            "Epoch [23]\n",
            "Epoch [24]\n",
            "Epoch [25]\n",
            "Epoch [26]\n",
            "Epoch [27]\n",
            "Epoch [28]\n",
            "Epoch [29]\n",
            "Epoch [30]\n",
            "Epoch [31]\n",
            "Epoch [32]\n",
            "Epoch [33]\n",
            "Epoch [34]\n",
            "Epoch [35]\n",
            "Epoch [36]\n",
            "Epoch [37]\n",
            "Epoch [38]\n",
            "Epoch [39]\n",
            "Epoch [40]\n",
            "Epoch [41]\n",
            "Epoch [42]\n",
            "Epoch [43]\n",
            "Epoch [44]\n",
            "Epoch [45]\n",
            "Epoch [46]\n",
            "Epoch [47]\n",
            "Epoch [48]\n",
            "Epoch [49]\n"
          ]
        }
      ],
      "source": [
        "##T3\n",
        "\n",
        "train_data = []\n",
        "val_data = []\n",
        "\n",
        "with open(\"drive/MyDrive/captcha-hacker/train/annotations.csv\", newline='') as csvfile:\n",
        "    for row in csv.reader(csvfile, delimiter=','):\n",
        "        if random.random() < 2:\n",
        "            train_data.append(row)\n",
        "        else:\n",
        "            val_data.append(row)\n",
        "\n",
        "train_ds = Task_Dataset(train_data, root=TRAIN_PATH, task = 3)\n",
        "train_dl = DataLoader(train_ds, batch_size=60, num_workers=4, drop_last=True, shuffle=True)\n",
        "\n",
        "val_ds = Task_Dataset(val_data, root=TRAIN_PATH, task = 3)\n",
        "val_dl = DataLoader(val_ds, batch_size=60, num_workers=4, drop_last=False, shuffle=False)\n",
        "\n",
        "model = torchvision.models.resnet18(pretrained = True).to(device)\n",
        "model.fc = nn.Linear(in_features = 512, out_features=144, bias=True).to(device)\n",
        "\n",
        "optimizer = torch.optim.Adam(model.parameters(), lr=1e-3)\n",
        "loss_fn = nn.MultiLabelSoftMarginLoss().to(device)\n",
        "\n",
        "for epoch in range(50):\n",
        "    print(f\"Epoch [{epoch}]\")\n",
        "    model.train()\n",
        "    for image, label in train_dl:\n",
        "        image = image.to(device)\n",
        "        label = label.to(device)\n",
        "        \n",
        "        pred = model(image)\n",
        "        loss = loss_fn(pred, label)\n",
        "        \n",
        "        optimizer.zero_grad()\n",
        "        loss.backward()\n",
        "        optimizer.step()\n",
        "        \n",
        "\n",
        "torch.save(model.state_dict(), \"/content/drive/MyDrive/model3\")"
      ]
    },
    {
      "cell_type": "code",
      "execution_count": null,
      "metadata": {
        "id": "GfVvfrUHH8PT"
      },
      "outputs": [],
      "source": []
    }
  ],
  "metadata": {
    "accelerator": "GPU",
    "colab": {
      "machine_shape": "hm",
      "provenance": []
    },
    "gpuClass": "premium",
    "kernelspec": {
      "display_name": "Python 3",
      "language": "python",
      "name": "python3"
    },
    "language_info": {
      "codemirror_mode": {
        "name": "ipython",
        "version": 3
      },
      "file_extension": ".py",
      "mimetype": "text/x-python",
      "name": "python",
      "nbconvert_exporter": "python",
      "pygments_lexer": "ipython3",
      "version": "3.7.12"
    }
  },
  "nbformat": 4,
  "nbformat_minor": 0
}