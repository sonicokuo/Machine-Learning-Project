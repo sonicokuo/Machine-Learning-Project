{
  "cells": [
    {
      "cell_type": "markdown",
      "metadata": {
        "id": "_i8beZmgnTkP"
      },
      "source": [
        "## HW1: Logistic regression and Linear Regression using Gradient Descent\n",
        "In hw1, you need to implement linear regression by using only numpy, then train your implemented model by the provided dataset and test the performance with testing data\n",
        "\n",
        "Please note that only **NUMPY** can be used to implement your model, you will get no points by simply calling sklearn.linear_model.LinearRegression"
      ]
    },
    {
      "cell_type": "code",
      "execution_count": 244,
      "metadata": {
        "id": "jEwpuilPnTki"
      },
      "outputs": [],
      "source": [
        "import numpy as np \n",
        "import pandas as pd\n",
        "import matplotlib.pyplot as plt"
      ]
    },
    {
      "cell_type": "markdown",
      "metadata": {
        "id": "hrW7Yim5nTko"
      },
      "source": [
        "# Part 1. Linear regression model"
      ]
    },
    {
      "cell_type": "markdown",
      "metadata": {
        "id": "spea5VXSnTkq"
      },
      "source": [
        "## Load regression data"
      ]
    },
    {
      "cell_type": "code",
      "execution_count": 245,
      "metadata": {
        "id": "8fsFatZpnTks"
      },
      "outputs": [],
      "source": [
        "x_train, x_test, y_train, y_test = np.load('regression_data.npy', allow_pickle=True)"
      ]
    },
    {
      "cell_type": "code",
      "execution_count": 246,
      "metadata": {
        "colab": {
          "base_uri": "https://localhost:8080/",
          "height": 265
        },
        "id": "AZcQxQjSnTkv",
        "outputId": "5006933c-7430-4c8a-aa0f-0b64441cf00f"
      },
      "outputs": [
        {
          "output_type": "display_data",
          "data": {
            "text/plain": [
              "<Figure size 432x288 with 1 Axes>"
            ],
            "image/png": "[encoded data removed]"
          },
          "metadata": {
            "needs_background": "light"
          }
        }
      ],
      "source": [
        "plt.plot(x_train, y_train, '.')\n",
        "x_train = np.reshape(x_train, x_train.size)\n",
        "# print(x_train)\n",
        "# print(y_train)"
      ]
    },
    {
      "cell_type": "markdown",
      "metadata": {
        "id": "kKBlfJPhnTk0"
      },
      "source": [
        "## Train your model \n",
        "### Pseudo code:\n",
        "1. Random initialize the weights, intercepts of the linear model\n",
        "\n",
        "**for i in range(iteration)**\n",
        "\n",
        "    2. Feed foward the training data into the model, get the output prediction\n",
        "    3. Calculating training loss by Mean Square Error of predcition and ground truth data\n",
        "    4. Calculating the gradients\n",
        "    5. Updating the weights and intercepts by the gradients * learning rate \n",
        "    \n",
        "**End of training**"
      ]
    },
    {
      "cell_type": "code",
      "execution_count": 247,
      "metadata": {
        "colab": {
          "base_uri": "https://localhost:8080/",
          "height": 265
        },
        "id": "WAuShGpXnTk4",
        "outputId": "56738019-4069-46c9-fb28-1d90895347d0"
      },
      "outputs": [
        {
          "output_type": "display_data",
          "data": {
            "text/plain": [
              "<Figure size 432x288 with 1 Axes>"
            ],
            "image/png": "[encoded data removed]"
          },
          "metadata": {
            "needs_background": "light"
          }
        }
      ],
      "source": [
        "def Mean_square_error(y_test, y_pred):\n",
        "  n = len(y_test)\n",
        "  error_sum = 0\n",
        "  for i in range(n):\n",
        "    error_sum += (y_test[i] - y_pred[i]) ** 2\n",
        "  # print(error_sum/n)\n",
        "  return error_sum / n\n",
        "\n",
        "learning_rate = 0.02\n",
        "\n",
        "class linear_regression_model:\n",
        "  def __init__(self):\n",
        "    self.weight = np.random.randn()\n",
        "    # print(self.weight)\n",
        "    self.intercept = np.random.randn()\n",
        "    # print(self.intercept)\n",
        "  def fit(self, x_train, y_train):\n",
        "    learning_curve = []\n",
        "    iter = []\n",
        "    n = len(x_train)\n",
        "    \n",
        "    for i in range(100):\n",
        "      \n",
        "      PDweight = -2 * np.sum(np.multiply(x_train, y_train - np.multiply(x_train, self.weight) - self.intercept)) / n\n",
        "\n",
        "      PDintercept = -2 * np.sum(y_train - np.multiply(x_train, self.weight) - self.intercept) / n\n",
        "\n",
        "      self.weight = self.weight - learning_rate * PDweight\n",
        "      self.intercept = self.intercept - learning_rate * PDintercept\n",
        "      # print(self.weight)\n",
        "      current_model = model(self.weight, self.intercept)\n",
        "      learning_curve.append(Mean_square_error(y_train, current_model.predict(x_train)))\n",
        "      # print(self.weight, self.intercept, Mean_square_error(y_train, current_model.predict(x_train)))\n",
        "      iter.append(i + 1)\n",
        "    plt.plot(iter, learning_curve)\n",
        "    # print(self.weight, self.intercept)\n",
        "    return self.weight, self.intercept\n",
        "class model:\n",
        "  def __init__(self, weight, intercept):\n",
        "    self.weight = weight\n",
        "    self.intercept = intercept\n",
        "  def predict(self, X):\n",
        "    X = np.reshape(X, X.size)\n",
        "    prediction = []\n",
        "    for x in X:\n",
        "      prediction.append(x * self.weight + self.intercept)\n",
        "    return prediction\n",
        "reg = linear_regression_model()\n",
        "weight, intercept = reg.fit(x_train, y_train)\n",
        "final = model(weight, intercept)"
      ]
    },
    {
      "cell_type": "markdown",
      "metadata": {
        "id": "gKVhnjmBnTk6"
      },
      "source": [
        "## Test the performance on the testing data\n",
        "Inference the test data (x_test) by your model and calculate the loss of (y_test, y_pred)"
      ]
    },
    {
      "cell_type": "code",
      "execution_count": 248,
      "metadata": {
        "colab": {
          "base_uri": "https://localhost:8080/",
          "height": 411
        },
        "id": "335wDD56nTk9",
        "outputId": "6ab5d259-c452-4516-aa34-94fd48e8bea2"
      },
      "outputs": [
        {
          "output_type": "stream",
          "name": "stdout",
          "text": [
            "Mean Square Error: 108.30932957933352 \n",
            "\n",
            "\n",
            "Weights: 51.607596394461865\n",
            "intercepts: -0.40763934758487497 \n",
            "\n",
            "\n"
          ]
        },
        {
          "output_type": "execute_result",
          "data": {
            "text/plain": [
              "[<matplotlib.lines.Line2D at 0x7fd778af4e90>]"
            ]
          },
          "metadata": {},
          "execution_count": 248
        },
        {
          "output_type": "display_data",
          "data": {
            "text/plain": [
              "<Figure size 432x288 with 1 Axes>"
            ],
            "image/png": "[encoded data removed]"
          },
          "metadata": {
            "needs_background": "light"
          }
        }
      ],
      "source": [
        "y_pred = final.predict(x_test)\n",
        "print(\"Mean Square Error:\", Mean_square_error(y_test, y_pred), \"\\n\\n\")\n",
        "print(\"Weights:\", weight)\n",
        "print(\"intercepts:\", intercept, \"\\n\\n\")\n",
        "plt.plot(x_test, y_test, \".\")\n",
        "plt.plot(x_test, y_pred, \".\")"
      ]
    },
    {
      "cell_type": "markdown",
      "metadata": {
        "id": "jKQQA8kRnTlA"
      },
      "source": [
        "# Part 2. Logistic regreesion model"
      ]
    },
    {
      "cell_type": "markdown",
      "metadata": {
        "id": "kSZwbjtYnTlD"
      },
      "source": [
        "## Load classification data"
      ]
    },
    {
      "cell_type": "code",
      "execution_count": 249,
      "metadata": {
        "id": "Z3IBvDmEnTlF"
      },
      "outputs": [],
      "source": [
        "x_train, x_test, y_train, y_test = np.load('classification_data.npy', allow_pickle=True)"
      ]
    },
    {
      "cell_type": "code",
      "execution_count": 250,
      "metadata": {
        "colab": {
          "base_uri": "https://localhost:8080/",
          "height": 265
        },
        "id": "bMJvu5NInTlH",
        "outputId": "51ce740c-6b7d-4799-e4d3-3e9d741beb8f"
      },
      "outputs": [
        {
          "output_type": "display_data",
          "data": {
            "text/plain": [
              "<Figure size 432x288 with 1 Axes>"
            ],
            "image/png": "[encoded data removed]"
          },
          "metadata": {
            "needs_background": "light"
          }
        }
      ],
      "source": [
        "plt.scatter(x_train, np.ones_like(x_train), c=y_train)\n",
        "x_train = np.reshape(x_train, x_train.size)\n",
        "x_test = np.reshape(x_test, x_test.size)\n",
        "# print(x_train)\n",
        "# print(y_train)"
      ]
    },
    {
      "cell_type": "raw",
      "metadata": {
        "id": "HEfIPZB7nTlK"
      },
      "source": [
        "## Train your model \n",
        "### Pseudo code:\n",
        "1. Random initialize the weights, intercepts of the linear model\n",
        "\n",
        "**for i in range(iteration)**\n",
        "\n",
        "    2. Feed foward the training data into the model, get the output prediction\n",
        "    3. Calculating training loss by Cross entrooy Error of predcition and ground truth data\n",
        "    4. Calculating the gradients\n",
        "    5. Updating the weights and intercepts by the gradients * learning rate \n",
        "    \n",
        "**End of training**"
      ]
    },
    {
      "cell_type": "code",
      "execution_count": 251,
      "metadata": {
        "colab": {
          "base_uri": "https://localhost:8080/",
          "height": 265
        },
        "id": "pzP0VWhvnTlM",
        "outputId": "76988adc-c527-4223-e445-b466d0dd9805"
      },
      "outputs": [
        {
          "output_type": "display_data",
          "data": {
            "text/plain": [
              "<Figure size 432x288 with 1 Axes>"
            ],
            "image/png": "[encoded data removed]"
          },
          "metadata": {
            "needs_background": "light"
          }
        }
      ],
      "source": [
        "def sigmoid(x):\n",
        "  return 1 / (1 + np.exp(-x))\n",
        "  \n",
        "def cross_entropy(y_test, y_pred):\n",
        "  n = len(y_test)\n",
        "  total = np.sum(y_test * np.log(y_pred + 1e-100) + (1- y_test) * np.log(1 - y_pred + 1e-100))\n",
        "  return - total / n\n",
        "\n",
        "learning_rate = 0.0001\n",
        "\n",
        "\n",
        "class logistic_regression_model:\n",
        "  def __init__(self):\n",
        "    self.weight = np.random.randn()\n",
        "    # print(self.weight)\n",
        "    self.intercept = np.random.randn()\n",
        "    # print(self.intercept)\n",
        "  def fit(self, x_train, y_train):\n",
        "    learning_curve = []\n",
        "    iter = []\n",
        "    n = len(x_train)\n",
        "    for i in range(1000):\n",
        "      predict_value = sigmoid(self.weight * x_train + self.intercept)\n",
        "      actual_value = y_train\n",
        "\n",
        "      PDweight = - np.sum((actual_value - predict_value) / (predict_value * (1 - predict_value)) * predict_value * (1 - predict_value) * x_train)\n",
        "      PDintercept = - np.sum((actual_value - predict_value) / (predict_value * (1 - predict_value)) * predict_value * (1 - predict_value))\n",
        "      \n",
        "      self.weight = self.weight - learning_rate * PDweight\n",
        "      self.intercept = self.intercept - learning_rate * PDintercept\n",
        "      # print(PDweight, self.weight)\n",
        "      current_predict = sigmoid(self.weight * x_train + self.intercept)\n",
        "\n",
        "      learning_curve.append(cross_entropy(actual_value, current_predict))\n",
        "\n",
        "      iter.append(i + 1)\n",
        "    # print(learning_curve)\n",
        "    plt.plot(iter, learning_curve)\n",
        "    plt.show\n",
        "    # print(self.weight, self.intercept)\n",
        "\n",
        "    return self.weight, self.intercept\n",
        "\n",
        "reg = logistic_regression_model()\n",
        "weight, intercept = reg.fit(x_train, y_train)\n",
        "# weight, intercept = 3.23, 0.73\n",
        "y_pred = sigmoid(weight * x_test + intercept)\n",
        "\n"
      ]
    },
    {
      "cell_type": "code",
      "source": [
        "print(\"Cross entropy\", cross_entropy(y_test, y_pred), \"\\n\\n\")\n",
        "print(\"Weights:\", weight)\n",
        "print(\"intercepts:\", intercept, \"\\n\\n\")\n",
        "plt.plot(x_test, y_test, \".\")\n",
        "plt.plot(x_test, y_pred, \".\")"
      ],
      "metadata": {
        "colab": {
          "base_uri": "https://localhost:8080/",
          "height": 411
        },
        "id": "EFtq8RHPlkfR",
        "outputId": "4569d11a-e127-4e89-f428-10f2fce3738e"
      },
      "execution_count": 252,
      "outputs": [
        {
          "output_type": "stream",
          "name": "stdout",
          "text": [
            "Cross entropy 0.17926808232259622 \n",
            "\n",
            "\n",
            "Weights: 3.581230053549105\n",
            "intercepts: 0.933454384753555 \n",
            "\n",
            "\n"
          ]
        },
        {
          "output_type": "execute_result",
          "data": {
            "text/plain": [
              "[<matplotlib.lines.Line2D at 0x7fd778d13e90>]"
            ]
          },
          "metadata": {},
          "execution_count": 252
        },
        {
          "output_type": "display_data",
          "data": {
            "text/plain": [
              "<Figure size 432x288 with 1 Axes>"
            ],
            "image/png": "[encoded data removed]"
          },
          "metadata": {
            "needs_background": "light"
          }
        }
      ]
    }
  ],
  "metadata": {
    "kernelspec": {
      "display_name": "Python 3 (ipykernel)",
      "language": "python",
      "name": "python3"
    },
    "language_info": {
      "codemirror_mode": {
        "name": "ipython",
        "version": 3
      },
      "file_extension": ".py",
      "mimetype": "text/x-python",
      "name": "python",
      "nbconvert_exporter": "python",
      "pygments_lexer": "ipython3",
      "version": "3.10.7"
    },
    "colab": {
      "provenance": [],
      "collapsed_sections": []
    }
  },
  "nbformat": 4,
  "nbformat_minor": 0
}