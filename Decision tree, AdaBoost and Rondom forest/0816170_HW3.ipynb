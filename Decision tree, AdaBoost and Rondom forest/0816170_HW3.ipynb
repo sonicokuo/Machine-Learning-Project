{
  "cells": [
    {
      "cell_type": "markdown",
      "metadata": {
        "id": "jx67IPL5Mnb4"
      },
      "source": [
        "## HW3: Decision Tree, AdaBoost and Random Forest\n",
        "In hw3, you need to implement decision tree, adaboost and random forest by using only numpy, then train your implemented model by the provided dataset. TA will use the on-hold test label to evaluate your model performance.\n",
        "\n",
        "Please note that only **NUMPY** can be used to implement your model, you will get no points by simply calling `sklearn.tree.DecisionTreeClassifier`"
      ]
    },
    {
      "cell_type": "markdown",
      "metadata": {
        "id": "GlCz7ZsFMnb8"
      },
      "source": [
        "## Question 1\n",
        "Gini Index or Entropy is often used for measuring the “best” splitting of the data. Please compute the Entropy and Gini Index of provided data. Please use the formula from [page 5 of hw3 slides](https://docs.google.com/presentation/d/1kIe_-YZdemRMmr_3xDy-l0OS2EcLgDH7Uan14tlU5KE/edit#slide=id.gd542a5ff75_0_15)"
      ]
    },
    {
      "cell_type": "code",
      "execution_count": 24,
      "metadata": {
        "id": "V7ShPNwgMnb9"
      },
      "outputs": [],
      "source": [
        "# Copy and paste your implementations right here to check your result\n",
        "# (Of course you can add your classes not written here)\n",
        "def gini(sequence):\n",
        "  frequency = {}\n",
        "  for label in sequence:\n",
        "    if label not in frequency:\n",
        "      frequency[label] = 0\n",
        "    frequency[label] += 1\n",
        "  gini_value = 1\n",
        "  \n",
        "  for freq in frequency.items():\n",
        "    gini_value -= (freq[1] / len(sequence)) ** 2 # 1 - pi^2 for all i\n",
        "  return gini_value\n",
        "      \n",
        "\n",
        "\n",
        "def entropy(sequence):\n",
        "  frequency = {}\n",
        "  for label in sequence:\n",
        "    if label not in frequency:\n",
        "      frequency[label] = 0\n",
        "    frequency[label] += 1\n",
        "  entropy_value = 0\n",
        "  for freq in frequency.items():\n",
        "    entropy_value -= np.log2(freq[1] / len(sequence)) * freq[1] / len(sequence) #-pi log pi for all i \n",
        "  return entropy_value\n",
        "  "
      ]
    },
    {
      "cell_type": "code",
      "execution_count": 25,
      "metadata": {
        "id": "_FV9VGZmMnb9"
      },
      "outputs": [],
      "source": [
        "# 1 = class 1,\n",
        "# 2 = class 2\n",
        "import numpy as np\n",
        "data = np.array([1,2,1,1,1,1,2,2,1,1,2])"
      ]
    },
    {
      "cell_type": "code",
      "execution_count": 26,
      "metadata": {
        "colab": {
          "base_uri": "https://localhost:8080/"
        },
        "id": "f5tYWdBCMnb-",
        "outputId": "ca26498b-c903-4a98-c2b2-e5e46d9a1e67"
      },
      "outputs": [
        {
          "output_type": "stream",
          "name": "stdout",
          "text": [
            "Gini of data is  0.4628099173553719\n"
          ]
        }
      ],
      "source": [
        "print(\"Gini of data is \", gini(data))"
      ]
    },
    {
      "cell_type": "code",
      "execution_count": 27,
      "metadata": {
        "colab": {
          "base_uri": "https://localhost:8080/"
        },
        "id": "KVUSqI2LMnb_",
        "outputId": "fcbcc0ad-4c9e-46c5-c5f3-32e67b82ddae"
      },
      "outputs": [
        {
          "output_type": "stream",
          "name": "stdout",
          "text": [
            "Entropy of data is  0.9456603046006402\n"
          ]
        }
      ],
      "source": [
        "print(\"Entropy of data is \", entropy(data))"
      ]
    },
    {
      "cell_type": "markdown",
      "metadata": {
        "id": "NZmwikyRMncA"
      },
      "source": [
        "## Load data\n",
        "It is a binary classifiation dataset that classify if price is high or not for a cell phone, the label is stored in `price_range` column."
      ]
    },
    {
      "cell_type": "code",
      "execution_count": 51,
      "metadata": {
        "colab": {
          "base_uri": "https://localhost:8080/"
        },
        "id": "Y7wIjWKbMncA",
        "outputId": "85aad6fd-82f0-4426-deaa-83a60735c3af"
      },
      "outputs": [
        {
          "output_type": "stream",
          "name": "stdout",
          "text": [
            "(1200, 21)\n",
            "(300, 21)\n"
          ]
        }
      ],
      "source": [
        "import pandas as pd\n",
        "importance = [0 for i in range(20)]\n",
        "train_df = pd.read_csv('train.csv')\n",
        "val_df = pd.read_csv('val.csv')\n",
        "\n",
        "\n",
        "print(train_df.shape)\n",
        "print(val_df.shape)\n",
        "\n",
        "####split training data into x data and corresponding y data\n",
        "x_train = train_df.drop(labels=[\"price_range\"], axis=\"columns\")\n",
        "feature_names = x_train.columns.values\n",
        "x_train = x_train.values\n",
        "y_train = train_df[\"price_range\"].values\n",
        "\n",
        "####split validation data into x data and corresponding y data\n",
        "x_val = val_df.drop(labels=[\"price_range\"], axis=\"columns\")\n",
        "x_val = x_val.values\n",
        "y_val = val_df[\"price_range\"].values"
      ]
    },
    {
      "cell_type": "markdown",
      "metadata": {
        "id": "zfzN3RSoMncB"
      },
      "source": [
        "## Question 2\n",
        "Implement the Decision Tree algorithm (CART, Classification and Regression Trees) and trained the model by the given arguments, and print the accuracy score on the validation data. You should implement two arguments for the Decision Tree algorithm\n",
        "1. **criterion**: The function to measure the quality of a split. Your model should support `gini` for the Gini impurity and `entropy` for the information gain. \n",
        "2. **max_depth**: The maximum depth of the tree. If `max_depth=None`, then nodes are expanded until all leaves are pure. `max_depth=1` equals to split data once\n"
      ]
    },
    {
      "cell_type": "code",
      "execution_count": 36,
      "metadata": {
        "id": "2wWNDSEvMncB"
      },
      "outputs": [],
      "source": [
        "class decision_node: #store decision node in a tree\n",
        "  def __init__(self, less_branch, more_branch, question = None):\n",
        "    self.less_branch = less_branch\n",
        "    self.more_branch = more_branch\n",
        "    self.question = question\n",
        "class leaf_node: #store leaf node in a tree\n",
        "  def __init__(self, whole_data):\n",
        "    frequency = {}\n",
        "    for label in whole_data[:, -1]:\n",
        "      if label not in frequency:\n",
        "        frequency[label] = 0\n",
        "      frequency[label] +=1\n",
        "    max_key = 0\n",
        "    max_value = 0\n",
        "    for key, value in frequency.items():\n",
        "      if value > max_value:\n",
        "        max_key = key\n",
        "        max_value = value\n",
        "    self.final_class = max_key\n",
        "\n",
        "\n",
        "class DecisionTree:\n",
        "    def __init__(self, criterion='gini', max_depth=None, boostrap=None, max_features=None):\n",
        "      self.depth = max_depth\n",
        "      self.cri = criterion\n",
        "      self.boostrap = boostrap\n",
        "      self.max_features = max_features\n",
        "\n",
        "    def fit(self, x_data, y_data, sample_weight = None):\n",
        "      whole_data = np.append(x_data, [[i] for i in y_data], 1)\n",
        "      if not sample_weight is None: \n",
        "        self.tree = build_tree(whole_data, self.cri, sample_weight, 0, 1) #adaboost\n",
        "      elif not self.boostrap is None:\n",
        "        if not self.max_features is None:\n",
        "          self.tree = build_tree(whole_data, self.cri, sample_weight, 0, -1, self.boostrap, self.max_features) #random forest\n",
        "      else:\n",
        "        self.tree = build_tree(whole_data, self.cri, sample_weight = None, current_depth = 0, target_depth = self.depth) #original DT\n",
        "        \n",
        "\n",
        "      \n",
        "\n",
        "    def predict(self, x_data):\n",
        "      pred = []\n",
        "      for target_index in range(len(x_data)):\n",
        "        data = x_data[target_index]\n",
        "        pred.append(classification(data, self.tree))          #given x predict y\n",
        "      prediction = np.array(pred)\n",
        "      return prediction\n",
        "\n",
        "class Question:         #store the feature and corresponding threshold of decision node\n",
        "  def __init__(self, feature, threshold):\n",
        "    self.feature = feature\n",
        "    self.threshold = threshold\n",
        "  def split_branch(self, data):\n",
        "    less_index = []\n",
        "    more_index = []\n",
        "    for i in range(len(data)):\n",
        "      if data[i][self.feature] > self.threshold:\n",
        "        less_index.append(i)\n",
        "      else:\n",
        "        more_index.append(i)\n",
        "    return data[less_index], data[more_index]\n",
        "\n",
        "def build_tree(before_whole_data, cri, sample_weight = None, current_depth=0, target_depth=-1, boostrap=None, max_features=None):\n",
        "  largest_gain = 0\n",
        "  best_question = None\n",
        "  if current_depth == target_depth:\n",
        "    return leaf_node(before_whole_data)\n",
        "  if current_depth == 0:\n",
        "    if not sample_weight is None:\n",
        "      num = len(before_whole_data)\n",
        "      whole_data = before_whole_data[np.random.choice(np.arange(num), num, p = sample_weight)] #adaboost\n",
        "    elif not boostrap is None:\n",
        "      w= np.ones(len(before_whole_data)) * 1 / len(before_whole_data)\n",
        "      num = len(before_whole_data)\n",
        "      whole_data = before_whole_data[np.random.choice(np.arange(num), num, p = w)] #random forest\n",
        "    else:\n",
        "      whole_data = before_whole_data \n",
        "  else: whole_data = before_whole_data  \n",
        "  if not boostrap is None:\n",
        "    features = np.random.choice(len(whole_data[0])-1, int(max_features), replace=False) #random forest\n",
        "  else :  \n",
        "    features = np.arange(len(whole_data[0])-1)\n",
        "  \n",
        "  \n",
        "  if cri == 'gini':\n",
        "    \n",
        "    currrent_value = gini(whole_data[:, -1]) #gini\n",
        "  else:\n",
        "    currrent_value = entropy(whole_data[:, -1])  #entropy\n",
        "  for col_index in features:     #search for possible feature, threshold pair that can improve info gain\n",
        "    values = list(set(whole_data[:, col_index]))\n",
        "    if len(values) == 1: continue\n",
        "    for i in range(len(values) - 1):\n",
        "      mid_value = (values[i] + values[i + 1]) / 2\n",
        "      question = Question(col_index, mid_value)\n",
        "      less_data, more_data = question.split_branch(whole_data)\n",
        "      p = len(less_data) / (len(less_data) + len(more_data))\n",
        "      if cri == 'gini':\n",
        "        info_gain = currrent_value - p * gini(less_data[:, -1]) - (1 - p) * gini(more_data[:, -1])\n",
        "      else:\n",
        "        info_gain = currrent_value - p * entropy(less_data[:, -1]) - (1 - p) * entropy(more_data[:, -1])\n",
        "      if info_gain >= largest_gain:\n",
        "        largest_gain = info_gain\n",
        "        best_question = question\n",
        "  if largest_gain == 0:\n",
        "    return leaf_node(whole_data)\n",
        "  importance[best_question.feature] += 1 #count the importance of each feature\n",
        "  less_data, more_data = best_question.split_branch(whole_data)\n",
        "  less_branch = build_tree(less_data, cri, sample_weight, current_depth + 1, target_depth, boostrap, max_features)\n",
        "  more_branch = build_tree(more_data, cri, sample_weight, current_depth + 1, target_depth, boostrap, max_features)\n",
        "  return decision_node(less_branch, more_branch, best_question) # split the node into two branches according to the feature and threshold\n",
        "    \n",
        "def classification(data, node): #for classify data\n",
        "\n",
        "  if isinstance(node, leaf_node):\n",
        "    return node.final_class\n",
        "  if data[node.question.feature] > node.question.threshold:\n",
        "    return classification(data, node.less_branch)\n",
        "  else:\n",
        "    return classification(data, node.more_branch)\n",
        "\n"
      ]
    },
    {
      "cell_type": "markdown",
      "metadata": {
        "id": "ShoZHGHpMncC"
      },
      "source": [
        "### Question 2.1\n",
        "Using `criterion=gini`, showing the accuracy score of validation data by `max_depth=3` and `max_depth=10`, respectively.\n"
      ]
    },
    {
      "cell_type": "code",
      "execution_count": 37,
      "metadata": {
        "colab": {
          "base_uri": "https://localhost:8080/"
        },
        "id": "xM-Z5YtFMncC",
        "outputId": "57c547e6-4f28-4d39-e82a-70a8530e142e"
      },
      "outputs": [
        {
          "output_type": "stream",
          "name": "stdout",
          "text": [
            "Decision Tree\n",
            "max_depth = 3, accuracy score: 0.92\n",
            "max_depth = 10, accuracy score: 0.93\n"
          ]
        }
      ],
      "source": [
        "from sklearn.metrics import accuracy_score\n",
        "clf_depth3 = DecisionTree(criterion='gini', max_depth=3)\n",
        "clf_depth3.fit(x_train, y_train)\n",
        "pred = clf_depth3.predict(x_val)\n",
        "print(\"Decision Tree\")\n",
        "print(\"max_depth = 3, accuracy score:\", accuracy_score(y_val, pred))\n",
        "\n",
        "clf_depth10 = DecisionTree(criterion='gini', max_depth=10)\n",
        "clf_depth10.fit(x_train, y_train)\n",
        "pred = clf_depth10.predict(x_val)\n",
        "print(\"max_depth = 10, accuracy score:\", accuracy_score(y_val, pred))\n"
      ]
    },
    {
      "cell_type": "markdown",
      "metadata": {
        "id": "UxWApPiBMncD"
      },
      "source": [
        "### Question 2.2\n",
        "Using `max_depth=3`, showing the accuracy score of validation data by `criterion=gini` and `criterion=entropy`, respectively.\n"
      ]
    },
    {
      "cell_type": "code",
      "execution_count": 38,
      "metadata": {
        "colab": {
          "base_uri": "https://localhost:8080/"
        },
        "id": "vc8f0jZGMncD",
        "outputId": "84964fcd-ebc6-4ab5-f908-9ae058f7b7d5"
      },
      "outputs": [
        {
          "output_type": "stream",
          "name": "stdout",
          "text": [
            "Decision Tree\n",
            "Criterion=‘gini', accuracy score: 0.92\n",
            "Criterion='entropy’, accuracy score: 0.9333333333333333\n"
          ]
        }
      ],
      "source": [
        "clf_gini = DecisionTree(criterion='gini', max_depth=3)\n",
        "clf_gini.fit(x_train, y_train)\n",
        "pred = clf_gini.predict(x_val)\n",
        "print('Decision Tree')\n",
        "print(\"Criterion=‘gini', accuracy score:\",accuracy_score(y_val, pred))\n",
        "\n",
        "clf_entropy = DecisionTree(criterion='entropy', max_depth=3)\n",
        "clf_entropy.fit(x_train, y_train)\n",
        "pred = clf_entropy.predict(x_val)\n",
        "print(\"Criterion='entropy’, accuracy score:\",accuracy_score(y_val, pred))"
      ]
    },
    {
      "cell_type": "markdown",
      "metadata": {
        "id": "xs3DzKcAMncD"
      },
      "source": [
        "- Note: Your decisition tree scores should over **0.9**. It may suffer from overfitting, if so, you can tune the hyperparameter such as `max_depth`\n",
        "- Note: You should get the same results when re-building the model with the same arguments,  no need to prune the trees\n",
        "- Hint: You can use the recursive method to build the nodes\n"
      ]
    },
    {
      "cell_type": "markdown",
      "metadata": {
        "id": "vN7A5U2aMncD"
      },
      "source": [
        "## Question 3\n",
        "Plot the [feature importance](https://sefiks.com/2020/04/06/feature-importance-in-decision-trees/) of your Decision Tree model. You can get the feature importance by counting the feature used for splitting data.\n",
        "\n",
        "- You can simply plot the **counts of feature used** for building tree without normalize the importance. Take the figure below as example, outlook feature has been used for splitting for almost 50 times. Therefore, it has the largest importance\n",
        "\n",
        "![image](https://i2.wp.com/sefiks.com/wp-content/uploads/2020/04/c45-fi-results.jpg?w=481&ssl=1)"
      ]
    },
    {
      "cell_type": "code",
      "source": [
        "import matplotlib.pyplot as plt\n",
        "importance = [0 for i in range(20)]\n",
        "clf_depth10 = DecisionTree(criterion='gini', max_depth=10)\n",
        "clf_depth10.fit(x_train, y_train)\n",
        "x = [i for i in range(20)]\n",
        "label = feature_names\n",
        "plt.barh(x, importance, tick_label = label,)\n",
        "plt.show()"
      ],
      "metadata": {
        "colab": {
          "base_uri": "https://localhost:8080/",
          "height": 265
        },
        "id": "QWEaet4chyty",
        "outputId": "52785ac6-0f74-4142-8cc3-a6454c9e094a"
      },
      "execution_count": 40,
      "outputs": [
        {
          "output_type": "display_data",
          "data": {
            "text/plain": [
              "<Figure size 432x288 with 1 Axes>"
            ],
            "image/png": "[encoded data removed]"
          },
          "metadata": {
            "needs_background": "light"
          }
        }
      ]
    },
    {
      "cell_type": "markdown",
      "metadata": {
        "id": "enchcjU3MncE"
      },
      "source": [
        "## Question 4\n",
        "implement the AdaBooest algorithm by using the CART you just implemented from question 2 as base learner. You should implement one arguments for the AdaBooest.\n",
        "1. **n_estimators**: The maximum number of estimators at which boosting is terminated"
      ]
    },
    {
      "cell_type": "code",
      "execution_count": 41,
      "metadata": {
        "id": "ICFYLYBUMncE"
      },
      "outputs": [],
      "source": [
        "class AdaBoost():\n",
        "    def __init__(self, n_estimators):\n",
        "      self.M = n_estimators\n",
        "      self.G_M = []\n",
        "      self.alphas = []\n",
        "      self.training_errors = []\n",
        "      self.prediction_errors = []\n",
        "\n",
        "    def fit(self, x_data, y_data):\n",
        "      for m in range(self.M):\n",
        "\n",
        "        if m == 0:\n",
        "          w = np.ones(len(y_data)) * 1 / len(y_data) \n",
        "        else:\n",
        "          w =  w * np.exp(alpha_m * (np.not_equal(y_data, y_pred)).astype(int)) #update w\n",
        "          w /= w.sum()                      #sum of w must be 1\n",
        "        weak_tree = DecisionTree(max_depth = 1) \n",
        "        \n",
        "        weak_tree.fit(x_data, y_data, sample_weight = w)\n",
        "        y_pred = weak_tree.predict(x_data)\n",
        "        self.G_M.append(weak_tree) # record stump\n",
        "        error_m = (sum(w * (np.not_equal(y_data, y_pred)).astype(int)))/sum(w)\n",
        "        \n",
        "        self.training_errors.append(error_m)\n",
        "        alpha_m = np.log((1 - error_m) / error_m) #record alpha\n",
        "\n",
        "        self.alphas.append(alpha_m)\n",
        "\n",
        "      assert len(self.G_M) == len(self.alphas)\n",
        "\n",
        "\n",
        "\n",
        "\n",
        "    def predict(self, x_data): #predict according to recorded stumps and alphas\n",
        "      pred = []\n",
        "      for i in range(len(x_data)):\n",
        "        data = [x_data[i]]\n",
        "        judge = 0\n",
        "        for m in range(self.M):\n",
        "          if self.G_M[m].predict(data)[0] == 1 :\n",
        "            judge += self.alphas[m]\n",
        "          else:\n",
        "            judge -= self.alphas[m]\n",
        "        if judge > 0:\n",
        "          pred.append(1)\n",
        "        else:\n",
        "          pred.append(0)\n",
        "      prediction = np.array(pred)\n",
        "      return prediction\n"
      ]
    },
    {
      "cell_type": "code",
      "execution_count": 42,
      "metadata": {
        "id": "1z7143WNMncE"
      },
      "outputs": [],
      "source": [
        "from sklearn.metrics import accuracy_score\n",
        "ada10 = AdaBoost(10)\n",
        "ada10.fit(x_train, y_train)\n",
        "pred10 = ada10.predict(x_val)\n",
        "\n",
        "ada100 = AdaBoost(100) #1000 for best\n",
        "ada100.fit(x_train, y_train)\n",
        "pred100 = ada100.predict(x_val)\n"
      ]
    },
    {
      "cell_type": "markdown",
      "metadata": {
        "id": "51yzJE9cMncE"
      },
      "source": [
        "### Question 4.1\n",
        "Show the accuracy score of validation data by `n_estimators=10` and `n_estimators=100`, respectively.\n"
      ]
    },
    {
      "cell_type": "code",
      "execution_count": 43,
      "metadata": {
        "colab": {
          "base_uri": "https://localhost:8080/"
        },
        "id": "3VrHCNHrMncF",
        "outputId": "d966893c-a5b0-4fb6-d761-43fdee442bbf"
      },
      "outputs": [
        {
          "output_type": "stream",
          "name": "stdout",
          "text": [
            "AdaBooest\n",
            "n_estimators=10, accuracy score: 0.9366666666666666\n",
            "n_estimators=100, accuracy score: 0.9733333333333334\n"
          ]
        }
      ],
      "source": [
        "from sklearn.metrics import accuracy_score\n",
        "print('AdaBooest')\n",
        "print(\"n_estimators=10, accuracy score:\",accuracy_score(y_val, pred10))\n",
        "print(\"n_estimators=100, accuracy score:\",accuracy_score(y_val, pred100))"
      ]
    },
    {
      "cell_type": "markdown",
      "metadata": {
        "id": "ZAOllT4pMncF"
      },
      "source": [
        "## Question 5\n",
        "implement the Random Forest algorithm by using the CART you just implemented from question 2. You should implement three arguments for the Random Forest.\n",
        "\n",
        "1. **n_estimators**: The number of trees in the forest. \n",
        "2. **max_features**: The number of random select features to consider when looking for the best split\n",
        "3. **bootstrap**: Whether bootstrap samples are used when building tree\n"
      ]
    },
    {
      "cell_type": "code",
      "execution_count": 44,
      "metadata": {
        "id": "CCfQiHSNMncF"
      },
      "outputs": [],
      "source": [
        "class RandomForest():\n",
        "    def __init__(self, n_estimators, max_features, boostrap=True, criterion='gini', max_depth=None):\n",
        "      self.n_estimators = n_estimators\n",
        "      self.max_features = max_features\n",
        "      self.boostrap = boostrap\n",
        "      self.cri = criterion\n",
        "      self.max_depth = max_depth\n",
        "      self.G_M = []\n",
        "\n",
        "    def fit(self, x_data, y_data):\n",
        "      for m in range(self.n_estimators):\n",
        "        random_tree = DecisionTree(boostrap=self.boostrap, max_features = self.max_features)\n",
        "        random_tree.fit(x_data, y_data)\n",
        "        self.G_M.append(random_tree) #record random trees\n",
        "\n",
        "\n",
        "    def predict(self, x_data): #predict y according to recored trees\n",
        "      pred = []\n",
        "      for i in range(len(x_data)):\n",
        "        data = [x_data[i]]\n",
        "        judge = 0\n",
        "        for m in range(self.n_estimators):\n",
        "          if self.G_M[m].predict(data)[0] == 1 :  #vote for class 0 or 1\n",
        "            judge += 1\n",
        "          else:\n",
        "            judge -= 1\n",
        "        if judge >= 0:\n",
        "          pred.append(1)\n",
        "        else:\n",
        "          pred.append(0)\n",
        "      prediction = np.array(pred)\n",
        "      return prediction"
      ]
    },
    {
      "cell_type": "markdown",
      "metadata": {
        "id": "40QaMRYsMncF"
      },
      "source": [
        "### Question 5.1\n",
        "Using `criterion=gini`, `max_depth=None`, `max_features=sqrt(n_features)`, showing the accuracy score of validation data by `n_estimators=10` and `n_estimators=100`, respectively.\n"
      ]
    },
    {
      "cell_type": "code",
      "execution_count": 45,
      "metadata": {
        "id": "vHUK13HvMncF"
      },
      "outputs": [],
      "source": [
        "clf_10tree = RandomForest(n_estimators=10, max_features=np.sqrt(x_train.shape[1]))\n",
        "clf_10tree.fit(x_train, y_train)\n",
        "pred10_ran = clf_10tree.predict(x_val)\n",
        "clf_100tree = RandomForest(n_estimators=100, max_features=np.sqrt(x_train.shape[1]))\n",
        "clf_100tree.fit(x_train, y_train)\n",
        "pred100_ran = clf_100tree.predict(x_val)"
      ]
    },
    {
      "cell_type": "code",
      "execution_count": 46,
      "metadata": {
        "colab": {
          "base_uri": "https://localhost:8080/"
        },
        "id": "Gly7QU_UMncG",
        "outputId": "1efaaa23-3e5d-4dce-b0d1-6c8e7feef5cb"
      },
      "outputs": [
        {
          "output_type": "stream",
          "name": "stdout",
          "text": [
            "Random Forest\n",
            "n_estimators=10, accuracy score: 0.93\n",
            "n_estimators=100, accuracy score: 0.96\n"
          ]
        }
      ],
      "source": [
        "from sklearn.metrics import accuracy_score\n",
        "\n",
        "print(\"Random Forest\")\n",
        "print(\"n_estimators=10, accuracy score:\",accuracy_score(y_val, pred10_ran))\n",
        "print(\"n_estimators=100, accuracy score:\",accuracy_score(y_val, pred100_ran))"
      ]
    },
    {
      "cell_type": "markdown",
      "metadata": {
        "id": "j1cHOLivMncG"
      },
      "source": [
        "### Question 5.2\n",
        "Using `criterion=gini`, `max_depth=None`, `n_estimators=10`, showing the accuracy score of validation data by `max_features=sqrt(n_features)` and `max_features=n_features`, respectively.\n"
      ]
    },
    {
      "cell_type": "code",
      "execution_count": 47,
      "metadata": {
        "id": "Rf2KRUzOMncG"
      },
      "outputs": [],
      "source": [
        "clf_random_features = RandomForest(n_estimators=10, max_features=np.sqrt(x_train.shape[1]))\n",
        "clf_random_features.fit(x_train, y_train)\n",
        "pred_ran = clf_random_features.predict(x_val)\n",
        "clf_all_features = RandomForest(n_estimators=10, max_features=x_train.shape[1])\n",
        "clf_all_features.fit(x_train, y_train)\n",
        "pred_all = clf_all_features.predict(x_val)"
      ]
    },
    {
      "cell_type": "markdown",
      "metadata": {
        "id": "XiKotPfcMncG"
      },
      "source": [
        "- Note: Use majority votes to get the final prediction, you may get slightly different results when re-building the random forest model"
      ]
    },
    {
      "cell_type": "code",
      "execution_count": 48,
      "metadata": {
        "colab": {
          "base_uri": "https://localhost:8080/"
        },
        "id": "SS5PkRl-MncG",
        "outputId": "3c177075-9b89-4e44-a264-3af79c788dbd"
      },
      "outputs": [
        {
          "output_type": "stream",
          "name": "stdout",
          "text": [
            "Random Forest\n",
            "random features, accuracy score: 0.9333333333333333\n",
            "all features, accuracy score: 0.9666666666666667\n"
          ]
        }
      ],
      "source": [
        "from sklearn.metrics import accuracy_score\n",
        "\n",
        "print(\"Random Forest\")\n",
        "print(\"random features, accuracy score:\",accuracy_score(y_val, pred_ran))\n",
        "print(\"all features, accuracy score:\",accuracy_score(y_val, pred_all))"
      ]
    },
    {
      "cell_type": "markdown",
      "metadata": {
        "id": "us-jfv05MncG"
      },
      "source": [
        "### Question 6. Train and tune your model on a real-world dataset\n",
        "Try you best to get higher accuracy score of your model. After parameter tuning, you can train your model on the full dataset (train + val).\n",
        "- Feature engineering\n",
        "- Hyperparameter tuning\n",
        "- Implement any other ensemble methods, such as gradient boosting. Please note that you **can not** call any package. Also, only ensemble method can be used. Neural network method is not allowed to used."
      ]
    },
    {
      "cell_type": "code",
      "execution_count": 63,
      "metadata": {
        "id": "N-ggStKSMncG"
      },
      "outputs": [],
      "source": [
        "from sklearn.metrics import accuracy_score\n",
        "\n",
        "def train_your_model(data):\n",
        "    ## Define your model and training \n",
        "    x_train = data.drop(labels=[\"price_range\"], axis=\"columns\")\n",
        "    x_train = x_train.values\n",
        "    y_train = data[\"price_range\"].values\n",
        "\n",
        "    ada = 150\n",
        "    adatest = AdaBoost(ada)\n",
        "    adatest.fit(x_train, y_train)\n",
        "    predtest = adatest.predict(x_val)\n",
        "    return adatest"
      ]
    },
    {
      "cell_type": "code",
      "execution_count": 64,
      "metadata": {
        "id": "57JHs5PvMncG"
      },
      "outputs": [],
      "source": [
        "trainval_df = train_df.append(val_df)\n",
        "my_model = train_your_model(trainval_df)"
      ]
    },
    {
      "cell_type": "code",
      "execution_count": 67,
      "metadata": {
        "id": "kgiOlwLlMncH"
      },
      "outputs": [],
      "source": [
        "test_df = pd.read_csv('x_test.csv')\n",
        "x_test = test_df.values\n",
        "y_pred = ada100.predict(x_test)"
      ]
    },
    {
      "cell_type": "code",
      "execution_count": 68,
      "metadata": {
        "id": "bour7-n9MncH"
      },
      "outputs": [],
      "source": [
        "assert y_pred.shape == (500, )"
      ]
    },
    {
      "cell_type": "markdown",
      "metadata": {
        "id": "qmAyet78MncH"
      },
      "source": [
        "## Supplementary\n",
        "If you have trouble to implement this homework, TA strongly recommend watching [this video](https://www.youtube.com/watch?v=LDRbO9a6XPU), which explains Decision Tree model clearly. But don't copy code from any resources, try to finish this homework by yourself! "
      ]
    },
    {
      "cell_type": "markdown",
      "metadata": {
        "id": "hw48cQMHMncH"
      },
      "source": [
        "### DO NOT MODIFY CODE BELOW"
      ]
    },
    {
      "cell_type": "code",
      "execution_count": null,
      "metadata": {
        "id": "3mTR9iBrMncH"
      },
      "outputs": [],
      "source": [
        "import pandas as pd\n",
        "from sklearn.metrics import accuracy_score\n",
        "y_test = pd.read_csv('y_test.csv')['price_range'].values\n",
        "\n",
        "print('Test-set accuarcy score: ', accuracy_score(y_test, y_pred))"
      ]
    },
    {
      "cell_type": "code",
      "execution_count": null,
      "metadata": {
        "id": "dcMsGAHCMncH"
      },
      "outputs": [],
      "source": []
    },
    {
      "cell_type": "code",
      "execution_count": 50,
      "metadata": {
        "colab": {
          "base_uri": "https://localhost:8080/"
        },
        "id": "HfXbq3i3MncI",
        "outputId": "a4c6d491-a814-4f8d-d7cf-0a8b7c8f3abe"
      },
      "outputs": [
        {
          "output_type": "stream",
          "name": "stdout",
          "text": [
            "*** We will check your result for Question 3 manually *** (5 points)\n",
            "*** We will check your result for Question 6 manually *** (20 points)\n",
            "Approximate score range: 45.0 ~ 70.0\n",
            "*** This score is only for reference ***\n"
          ]
        }
      ],
      "source": [
        "def discrete_checker(score, thres, clf, name, x_train, y_train, x_test, y_test):\n",
        "    clf.fit(x_train, y_train)\n",
        "    y_pred = clf.predict(x_test)\n",
        "    if accuracy_score(y_test, y_pred) - thres >= 0:\n",
        "        return score\n",
        "    else:\n",
        "        print(f\"{name} failed\")\n",
        "        return 0\n",
        "\n",
        "\n",
        "def patient_checker(score, thres, CLS, kwargs, name,\n",
        "                    x_train, y_train, x_test, y_test, patient=10):\n",
        "    while patient > 0:\n",
        "        patient -= 1\n",
        "        clf = CLS(**kwargs)\n",
        "        clf.fit(x_train, y_train)\n",
        "        y_pred = clf.predict(x_test)\n",
        "        if accuracy_score(y_test, y_pred) - thres >= 0:\n",
        "            return score\n",
        "    print(f\"{name} failed\")\n",
        "    print(\"Considering the randomness, we will check it manually\")\n",
        "    return 0\n",
        "\n",
        "\n",
        "def load_dataset():\n",
        "    file_url = \"http://storage.googleapis.com/download.tensorflow.org/data/abalone_train.csv\"\n",
        "    df = pd.read_csv(\n",
        "        file_url,\n",
        "        names=[\"Length\", \"Diameter\", \"Height\", \"Whole weight\", \"Shucked weight\",\n",
        "               \"Viscera weight\", \"Shell weight\", \"Age\"]\n",
        "    )\n",
        "\n",
        "    df['Target'] = (df[\"Age\"] > 15).astype(int)\n",
        "    df = df.drop(labels=[\"Age\"], axis=\"columns\")\n",
        "\n",
        "    train_idx = range(0, len(df), 10)\n",
        "    test_idx = range(1, len(df), 20)\n",
        "\n",
        "    train_df = df.iloc[train_idx]\n",
        "    test_df = df.iloc[test_idx]\n",
        "\n",
        "    x_train = train_df.drop(labels=[\"Target\"], axis=\"columns\")\n",
        "    feature_names = x_train.columns.values\n",
        "    x_train = x_train.values\n",
        "    y_train = train_df['Target'].values\n",
        "\n",
        "    x_test = test_df.drop(labels=[\"Target\"], axis=\"columns\")\n",
        "    x_test = x_test.values\n",
        "    y_test = test_df['Target'].values\n",
        "    return x_train, y_train, x_test, y_test, feature_names\n",
        "\n",
        "\n",
        "score = 0\n",
        "\n",
        "data = np.array([1, 2])\n",
        "if abs(gini(data) - 0.5) < 1e-4:\n",
        "    score += 2.5\n",
        "else:\n",
        "    print(\"gini test failed\")\n",
        "\n",
        "if abs(entropy(data) - 1) < 1e-4:\n",
        "    score += 2.5\n",
        "else:\n",
        "    print(\"entropy test failed\")\n",
        "\n",
        "x_train, y_train, x_test, y_test, feature_names = load_dataset()\n",
        "\n",
        "score += discrete_checker(5, 0.9337,\n",
        "                          DecisionTree(criterion='gini', max_depth=3),\n",
        "                          \"DecisionTree(criterion='gini', max_depth=3)\",\n",
        "                          x_train, y_train, x_test, y_test\n",
        "                          )\n",
        "\n",
        "score += discrete_checker(2.5, 0.9036,\n",
        "                          DecisionTree(criterion='gini', max_depth=10),\n",
        "                          \"DecisionTree(criterion='gini', max_depth=10)\",\n",
        "                          x_train, y_train, x_test, y_test\n",
        "                          )\n",
        "\n",
        "score += discrete_checker(2.5, 0.9096,\n",
        "                          DecisionTree(criterion='entropy', max_depth=3),\n",
        "                          \"DecisionTree(criterion='entropy', max_depth=3)\",\n",
        "                          x_train, y_train, x_test, y_test\n",
        "                          )\n",
        "\n",
        "print(\"*** We will check your result for Question 3 manually *** (5 points)\")\n",
        "\n",
        "score += patient_checker(\n",
        "    7.5, 0.91, AdaBoost, {\"n_estimators\": 10},\n",
        "    \"AdaBoost(n_estimators=10)\",\n",
        "    x_train, y_train, x_test, y_test\n",
        ")\n",
        "\n",
        "score += patient_checker(\n",
        "    7.5, 0.87, AdaBoost, {\"n_estimators\": 100},\n",
        "    \"AdaBoost(n_estimators=100)\",\n",
        "    x_train, y_train, x_test, y_test\n",
        ")\n",
        "\n",
        "score += patient_checker(\n",
        "    5, 0.91, RandomForest,\n",
        "    {\"n_estimators\": 10, \"max_features\": np.sqrt(x_train.shape[1])},\n",
        "    \"RandomForest(n_estimators=10, max_features=sqrt(n_features))\",\n",
        "    x_train, y_train, x_test, y_test\n",
        ")\n",
        "\n",
        "score += patient_checker(\n",
        "    5, 0.91, RandomForest,\n",
        "    {\"n_estimators\": 100, \"max_features\": np.sqrt(x_train.shape[1])},\n",
        "    \"RandomForest(n_estimators=100, max_features=sqrt(n_features))\",\n",
        "    x_train, y_train, x_test, y_test\n",
        ")\n",
        "\n",
        "score += patient_checker(\n",
        "    5, 0.92, RandomForest,\n",
        "    {\"n_estimators\": 10, \"max_features\": x_train.shape[1]},\n",
        "    \"RandomForest(n_estimators=10, max_features=n_features)\",\n",
        "    x_train, y_train, x_test, y_test\n",
        ")\n",
        "\n",
        "print(\"*** We will check your result for Question 6 manually *** (20 points)\")\n",
        "print(\"Approximate score range:\", score, \"~\", score + 25)\n",
        "print(\"*** This score is only for reference ***\")\n"
      ]
    }
  ],
  "metadata": {
    "kernelspec": {
      "display_name": "Python 3.10.3 64-bit",
      "language": "python",
      "name": "python3"
    },
    "language_info": {
      "codemirror_mode": {
        "name": "ipython",
        "version": 3
      },
      "file_extension": ".py",
      "mimetype": "text/x-python",
      "name": "python",
      "nbconvert_exporter": "python",
      "pygments_lexer": "ipython3",
      "version": "3.10.3"
    },
    "vscode": {
      "interpreter": {
        "hash": "8c9afcc29181526987d0b385fb14ac7bec129a3a1f159e207d0db8e842e65205"
      }
    },
    "colab": {
      "provenance": [],
      "collapsed_sections": []
    }
  },
  "nbformat": 4,
  "nbformat_minor": 0
}