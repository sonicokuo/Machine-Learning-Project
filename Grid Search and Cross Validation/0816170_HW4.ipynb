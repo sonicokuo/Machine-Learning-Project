{
  "cells": [
    {
      "cell_type": "code",
      "execution_count": 2,
      "metadata": {
        "id": "3qCMlmGTeQIb"
      },
      "outputs": [],
      "source": [
        "import numpy as np\n",
        "import pandas as pd\n",
        "from sklearn.svm import SVC, SVR\n",
        "from sklearn.metrics import accuracy_score"
      ]
    },
    {
      "cell_type": "markdown",
      "metadata": {
        "id": "3V1P1AXceQIe"
      },
      "source": [
        "## Load data"
      ]
    },
    {
      "cell_type": "code",
      "execution_count": 4,
      "metadata": {
        "id": "rXm9SePseQIg"
      },
      "outputs": [],
      "source": [
        "x_train = np.load(\"x_train.npy\")\n",
        "y_train = np.load(\"y_train.npy\")\n",
        "x_test = np.load(\"x_test.npy\")\n",
        "# y_test = np.load(\"y_test.npy\")\n",
        "# x_train[:10]\n"
      ]
    },
    {
      "cell_type": "code",
      "execution_count": 5,
      "metadata": {
        "colab": {
          "base_uri": "https://localhost:8080/"
        },
        "id": "BlNKi7YWeQIg",
        "outputId": "37c612b0-def4-4297-85b9-687ba9e6e56b"
      },
      "outputs": [
        {
          "output_type": "stream",
          "name": "stdout",
          "text": [
            "(7000, 300)\n"
          ]
        }
      ],
      "source": [
        "# 7000 data with 300 features\n",
        "print(x_train.shape)\n",
        "# y_train[:10]"
      ]
    },
    {
      "cell_type": "code",
      "execution_count": 6,
      "metadata": {
        "colab": {
          "base_uri": "https://localhost:8080/"
        },
        "id": "7eDB4BzLeQIh",
        "outputId": "b4667a66-367a-4ba9-ec50-59cab8e37063"
      },
      "outputs": [
        {
          "output_type": "stream",
          "name": "stdout",
          "text": [
            "[0 1]\n"
          ]
        }
      ],
      "source": [
        "# It's a binary classification problem \n",
        "print(np.unique(y_train))"
      ]
    },
    {
      "cell_type": "markdown",
      "metadata": {
        "id": "LQ7xb1gyeQIi"
      },
      "source": [
        "## Question 1\n",
        "K-fold data partition: Implement the K-fold cross-validation function. Your function should take K as an argument and return a list of lists (len(list) should equal to K), which contains K elements. Each element is a list contains two parts, the first part contains the index of all training folds, e.g. Fold 2 to Fold 5 in split 1. The second part contains the index of validation fold, e.g. Fold 1 in  split 1"
      ]
    },
    {
      "cell_type": "code",
      "execution_count": 10,
      "metadata": {
        "id": "GtJuQJAzeQIi"
      },
      "outputs": [],
      "source": [
        "def cross_validation(x_train, y_train, k=5):\n",
        "  kfold_data = [[] for i in range(k)]\n",
        "  candidate_list = np.arange(len(x_train))\n",
        "  np.random.shuffle(candidate_list)\n",
        "  fold_num_list = []\n",
        "  if len(x_train) % k != 0:\n",
        "    for i in range(len(x_train) % k):\n",
        "      fold_num_list.append((len(x_train) // k) + 1)\n",
        "    for j in range(k - i - 1):\n",
        "      fold_num_list.append(len(x_train) // k)\n",
        "  else:\n",
        "    for i in range(k):\n",
        "      fold_num_list.append(len(x_train) // k)\n",
        "\n",
        "  current_kfold_start = 0\n",
        "  for split in range(k):\n",
        "    Validation_index = np.sort(candidate_list[current_kfold_start : current_kfold_start + fold_num_list[split]])\n",
        "    Training_index = np.sort(np.delete(candidate_list, [i for i in range(current_kfold_start, current_kfold_start + fold_num_list[split])]))\n",
        "    kfold_data[split].append(Training_index)\n",
        "    kfold_data[split].append(Validation_index)\n",
        "    current_kfold_start += fold_num_list[split]\n",
        "  return kfold_data\n"
      ]
    },
    {
      "cell_type": "code",
      "execution_count": 11,
      "metadata": {
        "id": "L2jh8nE7eQIj"
      },
      "outputs": [],
      "source": [
        "kfold_data = cross_validation(x_train, y_train, k=10)\n",
        "assert len(kfold_data) == 10 # should contain 10 fold of data\n",
        "assert len(kfold_data[0]) == 2 # each element should contain train fold and validation fold\n",
        "assert kfold_data[0][1].shape[0] == 700 # The number of data in each validation fold should equal to training data divieded by K\n",
        "# print(kfold_data)\n"
      ]
    },
    {
      "cell_type": "markdown",
      "metadata": {
        "id": "fIefILZkeQIj"
      },
      "source": [
        "## example"
      ]
    },
    {
      "cell_type": "code",
      "execution_count": 13,
      "metadata": {
        "colab": {
          "base_uri": "https://localhost:8080/"
        },
        "id": "EjAnf6f2eQIk",
        "outputId": "c388a113-dfdd-45a2-ad57-2d89269aae71"
      },
      "outputs": [
        {
          "output_type": "stream",
          "name": "stdout",
          "text": [
            "Split: 1, Training index: [ 0  2  3  4  5  7  9 10 11 12 13 14 15 16 17 19], Validation index: [ 1  6  8 18]\n",
            "Split: 2, Training index: [ 0  1  2  3  4  6  7  8  9 10 11 12 14 15 16 18], Validation index: [ 5 13 17 19]\n",
            "Split: 3, Training index: [ 0  1  2  3  5  6  7  8 10 12 13 14 16 17 18 19], Validation index: [ 4  9 11 15]\n",
            "Split: 4, Training index: [ 1  3  4  5  6  7  8  9 11 12 13 15 16 17 18 19], Validation index: [ 0  2 10 14]\n",
            "Split: 5, Training index: [ 0  1  2  4  5  6  8  9 10 11 13 14 15 17 18 19], Validation index: [ 3  7 12 16]\n"
          ]
        }
      ],
      "source": [
        "from sklearn.model_selection import KFold\n",
        "\n",
        "X = np.arange(20)\n",
        "kf = KFold(n_splits=5, shuffle=True)\n",
        "kfold_data= []\n",
        "for i, (train_index, val_index) in enumerate(kf.split(X)):\n",
        "    print(\"Split: %s, Training index: %s, Validation index: %s\" % (i+1, train_index, val_index))\n",
        "    kfold_data.append([train_index, val_index])"
      ]
    },
    {
      "cell_type": "code",
      "execution_count": 14,
      "metadata": {
        "id": "DyKCQuuQeQIk"
      },
      "outputs": [],
      "source": [
        "assert len(kfold_data) == 5 # should contain 5 fold of data\n",
        "assert len(kfold_data[0]) == 2 # each element should contains index of training fold and validation fold\n",
        "assert kfold_data[0][1].shape[0] == 4 # The number of data in each validation fold should equal to training data divieded by K"
      ]
    },
    {
      "cell_type": "markdown",
      "metadata": {
        "id": "HuQHuwDIeQIl"
      },
      "source": [
        "## Question 2\n",
        "Using sklearn.svm.SVC to train a classifier on the provided train set and conduct the grid search of “C” and “gamma” to find the best parameters by cross-validation."
      ]
    },
    {
      "cell_type": "code",
      "execution_count": 16,
      "metadata": {
        "id": "sXAs_R7AeQIl"
      },
      "outputs": [],
      "source": [
        "clf = SVC(C=1.0, kernel='rbf', gamma=0.01)\n",
        "# print(clf)"
      ]
    },
    {
      "cell_type": "code",
      "execution_count": 27,
      "metadata": {
        "id": "o_olqJJ_eQIm"
      },
      "outputs": [],
      "source": [
        "## your code\n",
        "\n",
        "best_score = -1\n",
        "best_parameters = {}\n",
        "best_parameters[\"gamma\"] = '?'\n",
        "best_parameters[\"C\"] = '?'\n",
        "\n",
        "splits = cross_validation(x_train, y_train, k=5)\n",
        "Gamma_parameter = [0.000000001, 0.00000001, 0.0000001, 0.000001, 0.00001, 0.0001, 0.001]\n",
        "C_parameter = [0.1, 1, 10, 100, 1000, 10000, 100000]\n",
        "accuracy_score_list = []\n",
        "for temp_C in C_parameter:\n",
        "  same_C_score_list = []\n",
        "  for temp_gamma in Gamma_parameter: \n",
        "    split_scores=[]\n",
        "    svm = SVC(C = temp_C,kernel = 'rbf',gamma = temp_gamma)\n",
        "    # print(svm)\n",
        "    for split in splits:\n",
        "      train_fold = split[0]\n",
        "      validation_fold = split[1]\n",
        "      x_train_data = x_train[train_fold]\n",
        "      y_train_data = y_train[train_fold]\n",
        "      x_validation_data = x_train[validation_fold]\n",
        "      y_validation_data = y_train[validation_fold]\n",
        "\n",
        "      svm.fit(x_train_data, y_train_data)\n",
        "      split_scores.append(svm.score(x_validation_data, y_validation_data))\n",
        "        \n",
        "    score = sum(split_scores) / len(split_scores)\n",
        "    # print(score)\n",
        "    same_C_score_list.append(score)\n",
        "    if score > best_score:\n",
        "        best_score = score\n",
        "        best_parameters[\"gamma\"] = temp_gamma\n",
        "        best_parameters[\"C\"] = temp_C\n",
        "  accuracy_score_list.append(np.round(same_C_score_list, 2))\n",
        "# print(best_parameters)\n",
        "# print(accuracy_score_list)"
      ]
    },
    {
      "cell_type": "code",
      "execution_count": 28,
      "metadata": {
        "colab": {
          "base_uri": "https://localhost:8080/"
        },
        "id": "zZx4GJJHeQIm",
        "outputId": "0322b2ea-f224-4c24-a641-958a25f74b8d"
      },
      "outputs": [
        {
          "output_type": "stream",
          "name": "stdout",
          "text": [
            "{'gamma': 0.0001, 'C': 1}\n",
            "With accuracy score: 0.9934285714285714\n"
          ]
        }
      ],
      "source": [
        "print(best_parameters)\n",
        "print(\"With accuracy score:\", best_score)"
      ]
    },
    {
      "cell_type": "markdown",
      "metadata": {
        "id": "zILuX2PweQIm"
      },
      "source": [
        "## Question 3\n",
        "Plot the grid search results of your SVM. The x, y represents the hyperparameters of “gamma” and “C”, respectively. And the color represents the average score of validation folds\n",
        "You reults should be look like this reference image below ![image](https://miro.medium.com/max/1296/1*wGWTup9r4cVytB5MOnsjdQ.png) "
      ]
    },
    {
      "cell_type": "code",
      "source": [
        "import matplotlib.pyplot as plt"
      ],
      "metadata": {
        "id": "ixsOeC-hmcuk"
      },
      "execution_count": 29,
      "outputs": []
    },
    {
      "cell_type": "code",
      "source": [
        "fig, ax = plt.subplots()\n",
        "\n",
        "im = ax.imshow(accuracy_score_list, cmap=\"rainbow\")\n",
        "cbar = ax.figure.colorbar(im, ax=ax)\n",
        "\n",
        "ax.set_xticks(np.arange(len(Gamma_parameter)))\n",
        "ax.set_yticks(np.arange(len(C_parameter)))\n",
        "ax.set_xticklabels(Gamma_parameter)\n",
        "ax.set_yticklabels(C_parameter)\n",
        "\n",
        "for i in range(len(C_parameter)):\n",
        "    for j in range(len(Gamma_parameter)):\n",
        "        text = ax.text(j, i, accuracy_score_list[i][j],\n",
        "                       ha=\"center\", va=\"center\", color=\"w\")\n",
        "\n",
        "ax.set_title(\"Hyperparameter Gridsearch\")\n",
        "plt.xlabel(\"Gamma Parameter\")\n",
        "plt.ylabel(\"C Parameter\")\n",
        "fig.tight_layout()\n",
        "plt.show()"
      ],
      "metadata": {
        "colab": {
          "base_uri": "https://localhost:8080/",
          "height": 297
        },
        "id": "Uv2bwhdemucU",
        "outputId": "475feac1-c570-4e74-8644-d4bee25adefd"
      },
      "execution_count": 30,
      "outputs": [
        {
          "output_type": "display_data",
          "data": {
            "text/plain": [
              "<Figure size 432x288 with 2 Axes>"
            ],
            "image/png": "[encoded data removed]"
          },
          "metadata": {
            "needs_background": "light"
          }
        }
      ]
    },
    {
      "cell_type": "markdown",
      "metadata": {
        "id": "cjEFUGSgeQIn"
      },
      "source": [
        "## Question 4\n",
        "Train your SVM model by the best parameters you found from question 2 on the whole training set and evaluate the performance on the test set."
      ]
    },
    {
      "cell_type": "code",
      "source": [
        "# best_parameters = {'gamma': 0.0001, 'C': 1}\n",
        "best_C = best_parameters[\"C\"]\n",
        "best_Gamma = best_parameters[\"gamma\"]\n",
        "best_model = SVC(C = best_C, kernel = 'rbf',gamma = best_Gamma)\n",
        "best_model.fit(x_train, y_train)\n",
        "y_pred = best_model.predict(x_test)\n"
      ],
      "metadata": {
        "id": "RtIx7F4CasgY"
      },
      "execution_count": 37,
      "outputs": []
    },
    {
      "cell_type": "code",
      "execution_count": 38,
      "metadata": {
        "id": "WmSqC0qkeQIn",
        "colab": {
          "base_uri": "https://localhost:8080/",
          "height": 183
        },
        "outputId": "dc586539-5a4a-45b9-da75-314f41a3e75f"
      },
      "outputs": [
        {
          "output_type": "error",
          "ename": "NameError",
          "evalue": "ignored",
          "traceback": [
            "\u001b[0;31m---------------------------------------------------------------------------\u001b[0m",
            "\u001b[0;31mNameError\u001b[0m                                 Traceback (most recent call last)",
            "\u001b[0;32m<ipython-input-38-67bd6f3810ec>\u001b[0m in \u001b[0;36m<module>\u001b[0;34m\u001b[0m\n\u001b[1;32m      1\u001b[0m \u001b[0my_pred\u001b[0m \u001b[0;34m=\u001b[0m \u001b[0mbest_model\u001b[0m\u001b[0;34m.\u001b[0m\u001b[0mpredict\u001b[0m\u001b[0;34m(\u001b[0m\u001b[0mx_test\u001b[0m\u001b[0;34m)\u001b[0m\u001b[0;34m\u001b[0m\u001b[0;34m\u001b[0m\u001b[0m\n\u001b[0;32m----> 2\u001b[0;31m \u001b[0mprint\u001b[0m\u001b[0;34m(\u001b[0m\u001b[0;34m\"Accuracy score: \"\u001b[0m\u001b[0;34m,\u001b[0m \u001b[0maccuracy_score\u001b[0m\u001b[0;34m(\u001b[0m\u001b[0my_pred\u001b[0m\u001b[0;34m,\u001b[0m \u001b[0my_test\u001b[0m\u001b[0;34m)\u001b[0m\u001b[0;34m)\u001b[0m\u001b[0;34m\u001b[0m\u001b[0;34m\u001b[0m\u001b[0m\n\u001b[0m",
            "\u001b[0;31mNameError\u001b[0m: name 'y_test' is not defined"
          ]
        }
      ],
      "source": [
        "y_pred = best_model.predict(x_test)\n",
        "print(\"Accuracy score: \", accuracy_score(y_pred, y_test))"
      ]
    }
  ],
  "metadata": {
    "kernelspec": {
      "display_name": "Python 3 (ipykernel)",
      "language": "python",
      "name": "python3"
    },
    "language_info": {
      "codemirror_mode": {
        "name": "ipython",
        "version": 3
      },
      "file_extension": ".py",
      "mimetype": "text/x-python",
      "name": "python",
      "nbconvert_exporter": "python",
      "pygments_lexer": "ipython3",
      "version": "3.10.8"
    },
    "colab": {
      "provenance": []
    }
  },
  "nbformat": 4,
  "nbformat_minor": 0
}
