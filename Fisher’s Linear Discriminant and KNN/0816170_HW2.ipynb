{
  "cells": [
    {
      "cell_type": "markdown",
      "metadata": {
        "id": "4z9SpIA3SskP"
      },
      "source": [
        "## HW2: Linear Discriminant Analysis\n",
        "In hw2, you need to implement [Fisher’s linear discriminant](https://towardsdatascience.com/fishers-linear-discriminant-intuitively-explained-52a1ba79e1bb) by using only numpy, then train your implemented model by the provided dataset and test the performance with testing data\n",
        "\n",
        "Please note that only **NUMPY** can be used to implement your model, you will get **zero point** by simply calling `sklearn.discriminant_analysis.LinearDiscriminantAnalysis` "
      ]
    },
    {
      "cell_type": "markdown",
      "metadata": {
        "id": "4fDMc143SskT"
      },
      "source": [
        "## Load data"
      ]
    },
    {
      "cell_type": "code",
      "execution_count": 20,
      "metadata": {
        "id": "2FlWTIN1SskU"
      },
      "outputs": [],
      "source": [
        "import numpy as np\n",
        "from numpy.linalg import *\n",
        "from sklearn.metrics import accuracy_score\n",
        "import matplotlib.pyplot as plt"
      ]
    },
    {
      "cell_type": "code",
      "execution_count": 21,
      "metadata": {
        "id": "YVWB2pW_SskV"
      },
      "outputs": [],
      "source": [
        "x_train, x_test, y_train, y_test = np.load('classification_data.npy', allow_pickle=True)"
      ]
    },
    {
      "cell_type": "code",
      "execution_count": 22,
      "metadata": {
        "colab": {
          "base_uri": "https://localhost:8080/"
        },
        "id": "dzJS5ZZnSskV",
        "outputId": "2d96e7c1-97cf-4ebc-8316-88f0388b8b65"
      },
      "outputs": [
        {
          "output_type": "stream",
          "name": "stdout",
          "text": [
            "(3750, 2)\n",
            "(3750,)\n",
            "(1250, 2)\n",
            "(1250,)\n"
          ]
        }
      ],
      "source": [
        "print(x_train.shape)\n",
        "print(y_train.shape)\n",
        "print(x_test.shape)\n",
        "print(y_test.shape)\n",
        "# print(x_train[0])"
      ]
    },
    {
      "cell_type": "markdown",
      "metadata": {
        "id": "PnXQpLuuSskW"
      },
      "source": [
        "## 1. Compute the mean vectors mi, (i=1,2) of each 2 classes"
      ]
    },
    {
      "cell_type": "code",
      "execution_count": 23,
      "metadata": {
        "id": "8C7armmTSskW"
      },
      "outputs": [],
      "source": [
        "## Your code HERE\n",
        "class1 = []\n",
        "class2 = []\n",
        "for index in range(x_train.shape[0]):\n",
        "  if y_train[index] == 0:\n",
        "    class1.append(x_train[index])\n",
        "    # print(x_train[index])\n",
        "    # print(np.sum(class1))\n",
        "  else:\n",
        "    class2.append(x_train[index])\n",
        "\n",
        "m1 = np.zeros((1, x_train.shape[1]))\n",
        "m2 = np.zeros((1, x_train.shape[1]))\n",
        "m1[0] = np.sum(class1, axis = 0) / len(class1)\n",
        "m2[0] = np.sum(class2, axis = 0) / len(class2)\n",
        "m = [m1, m2]\n",
        "# print(m)"
      ]
    },
    {
      "cell_type": "code",
      "execution_count": 24,
      "metadata": {
        "colab": {
          "base_uri": "https://localhost:8080/"
        },
        "id": "mlQhG3VISskX",
        "outputId": "9f58e54c-7e48-4ed4-afbd-16ef3da9b2cb"
      },
      "outputs": [
        {
          "output_type": "stream",
          "name": "stdout",
          "text": [
            "mean vector of class 1: \n",
            "[ 0.99253136 -0.99115481] \n",
            "mean vector of class 2: \n",
            "[-0.9888012   1.00522778]\n"
          ]
        }
      ],
      "source": [
        "print(f\"mean vector of class 1: \\n{m1[0]}\", f\"\\nmean vector of class 2: \\n{m2[0]}\")"
      ]
    },
    {
      "cell_type": "markdown",
      "metadata": {
        "id": "XWDOiYSZSskX"
      },
      "source": [
        "## 2. Compute the Within-class scatter matrix SW"
      ]
    },
    {
      "cell_type": "code",
      "source": [
        "## Your code HERE\n",
        "Sw = np.zeros((2, x_train.shape[1], x_train.shape[1]))\n",
        "for i in range(x_train.shape[0]):\n",
        "  Sw[y_train[i]] = Sw[y_train[i]] + (x_train[i] - m[y_train[i]]).T @ (x_train[i] - m[y_train[i]])\n",
        "sw = Sw[0] + Sw[1]\n",
        "\n"
      ],
      "metadata": {
        "id": "ws6_b0kkSskY"
      },
      "execution_count": 25,
      "outputs": []
    },
    {
      "cell_type": "code",
      "execution_count": 26,
      "metadata": {
        "colab": {
          "base_uri": "https://localhost:8080/"
        },
        "id": "D0TiUDrGSskY",
        "outputId": "d4fcbbbd-c9e4-4de4-f39e-93f37223c197"
      },
      "outputs": [
        {
          "output_type": "stream",
          "name": "stdout",
          "text": [
            "Within-class scatter matrix SW: \n",
            "[[ 4337.38546493 -1795.55656547]\n",
            " [-1795.55656547  2834.75834886]]\n"
          ]
        }
      ],
      "source": [
        "print(f\"Within-class scatter matrix SW: \\n{sw}\")"
      ]
    },
    {
      "cell_type": "markdown",
      "metadata": {
        "id": "7SC5aKGwSskZ"
      },
      "source": [
        "## 3.  Compute the Between-class scatter matrix SB"
      ]
    },
    {
      "cell_type": "code",
      "execution_count": 27,
      "metadata": {
        "id": "53TrVRicSskZ"
      },
      "outputs": [],
      "source": [
        "## Your code HERE\n",
        "sb = (m2 - m1).T @ (m2 - m1)"
      ]
    },
    {
      "cell_type": "code",
      "execution_count": 28,
      "metadata": {
        "colab": {
          "base_uri": "https://localhost:8080/"
        },
        "id": "2kqzF8yHSskZ",
        "outputId": "66d973cb-2b36-4523-9329-1d74f182d172"
      },
      "outputs": [
        {
          "output_type": "stream",
          "name": "stdout",
          "text": [
            "Between-class scatter matrix SB: \n",
            "[[ 3.92567873 -3.95549783]\n",
            " [-3.95549783  3.98554344]]\n"
          ]
        }
      ],
      "source": [
        "print(f\"Between-class scatter matrix SB: \\n{sb}\")"
      ]
    },
    {
      "cell_type": "markdown",
      "metadata": {
        "id": "avNxCL3XSska"
      },
      "source": [
        "## 4. Compute the Fisher’s linear discriminant"
      ]
    },
    {
      "cell_type": "code",
      "execution_count": 29,
      "metadata": {
        "id": "Yt7MRo6eSska"
      },
      "outputs": [],
      "source": [
        "## Your code HERE\n",
        "w1 = inv(sw) @ (m2 - m1).T\n",
        "w = w1 / norm(inv(sw) @ (m2 - m1).T)"
      ]
    },
    {
      "cell_type": "code",
      "execution_count": 30,
      "metadata": {
        "colab": {
          "base_uri": "https://localhost:8080/"
        },
        "id": "Jzy7oi6CSska",
        "outputId": "3547a493-a81e-4e66-91cb-e9d90a3ad103"
      },
      "outputs": [
        {
          "output_type": "stream",
          "name": "stdout",
          "text": [
            " Fisher’s linear discriminant: \n",
            "[[-0.000224  ]\n",
            " [ 0.00056237]]\n",
            " After Normalization: \n",
            "[[-0.37003809]\n",
            " [ 0.92901658]]\n"
          ]
        }
      ],
      "source": [
        "print(f\" Fisher’s linear discriminant: \\n{w1}\")\n",
        "print(f\" After Normalization: \\n{w}\")"
      ]
    },
    {
      "cell_type": "code",
      "execution_count": 31,
      "metadata": {
        "id": "zA2P7BjZSska"
      },
      "outputs": [],
      "source": [
        "# KNN\n",
        "\n",
        "x_train_dot = x_train @ w\n",
        "x_test_dot = x_test @ w\n",
        "y_pred = [[] for i in range(5)]\n",
        "\n",
        "for i in range(len(x_test_dot)):\n",
        "  dist_dict = {}\n",
        "  for j in range(len(x_train_dot)):\n",
        "    dist_dict[j] = np.absolute(x_train_dot[j] - x_test_dot[i])\n",
        "  sorted_dist = sorted(dist_dict.items(), key = lambda x : x[1])\n",
        "  for k in range(5):\n",
        "    c1 = 0\n",
        "    c2 = 0\n",
        "    nearest = -1\n",
        "    for index_dist in sorted_dist:\n",
        "      if y_train[index_dist[0]] == 0:\n",
        "        c1 += 1\n",
        "      else:\n",
        "        c2 += 1\n",
        "      if c1 + c2 == 1:\n",
        "        nearest = y_train[index_dist[0]]\n",
        "      if c1 + c2 == k + 1:\n",
        "        break\n",
        "    if c1 > c2:\n",
        "      y_pred[k].append(0)\n",
        "    elif c1 == c2:\n",
        "      y_pred[k].append(nearest)\n",
        "    else:\n",
        "      y_pred[k].append(1)\n",
        "      "
      ]
    },
    {
      "cell_type": "markdown",
      "metadata": {
        "id": "LK7s6NdISskb"
      },
      "source": [
        "## 5. Project the test data by linear discriminant and get the class prediction by `K` nearest-neighbor rule. Please report the accuracy score with `K` values from 1 to 5\n",
        "you can use `accuracy_score` function from `sklearn.metric.accuracy_score`"
      ]
    },
    {
      "cell_type": "code",
      "execution_count": 32,
      "metadata": {
        "id": "AMDZ3wmiSskb"
      },
      "outputs": [],
      "source": [
        "acc = [0 for i in range(5)]\n",
        "for k in range(5):\n",
        "  acc[k] = accuracy_score(y_test, y_pred[k])"
      ]
    },
    {
      "cell_type": "code",
      "execution_count": 33,
      "metadata": {
        "id": "bMztTK8_Sskb",
        "colab": {
          "base_uri": "https://localhost:8080/"
        },
        "outputId": "85fc0f5f-40c6-4fdd-eb9b-369802fe5ae0"
      },
      "outputs": [
        {
          "output_type": "stream",
          "name": "stdout",
          "text": [
            "Accuracy of test-set when k = 1: 0.8488\n",
            "Accuracy of test-set when k = 2: 0.8488\n",
            "Accuracy of test-set when k = 3: 0.8792\n",
            "Accuracy of test-set when k = 4: 0.8824\n",
            "Accuracy of test-set when k = 5: 0.8912\n"
          ]
        }
      ],
      "source": [
        "for k in range(5):\n",
        "  print(f\"Accuracy of test-set when k = {k + 1}: {acc[k]}\")"
      ]
    },
    {
      "cell_type": "markdown",
      "metadata": {
        "id": "ZixLw3HtSskb"
      },
      "source": [
        "## 6. Plot the 1) best projection line on the training data and show the slope and intercept on the title (you can choose any value of intercept for better visualization) 2) colorize the data with each class 3) project all data points on your projection line. Your result should look like [this image](https://i.imgur.com/tubMQpw.jpg)"
      ]
    },
    {
      "cell_type": "code",
      "source": [
        "vec = [w[0][0], w[1][0]]\n",
        "proj_x_train = []\n",
        "for i in range(len(x_train_dot)):\n",
        "  proj_x_train.append(x_train_dot[i] * vec)\n",
        "m = vec[1] / vec[0]\n",
        "a = -4 / 1.1586521402579473\n",
        "c = []\n",
        "for i in range(len(y_train)):\n",
        "  if y_train[i] == 1: c.append('r')\n",
        "  else: c.append('b') \n",
        "\n",
        "plt.scatter(x_train.T[0], x_train.T[1], c = c, s = 0.5, zorder = 10)\n",
        "intercept_y = []\n",
        "intercept_x = []\n",
        "for x in proj_x_train:\n",
        "  intercept_y.append(x[1] + a * (-1 / m))\n",
        "  intercept_x.append(x[0] + a)\n",
        "\n",
        "plt.plot(intercept_x, intercept_y, linewidth = 0.7, zorder = 1)\n",
        "plt.scatter(intercept_x, intercept_y, c = c, s = 0.5, zorder = 2)\n",
        "for i in range(x_train.shape[0]):\n",
        "    x = [x_train.T[0][i], intercept_x[i]]\n",
        "    y = [x_train.T[1][i], intercept_y[i]]\n",
        "    plt.plot(x, y, linestyle = 'dashed', linewidth = 0.08, c = 'c', zorder = 0)\n",
        "b = round((m * intercept_x[0] - intercept_y[0]) / m, 3)\n",
        "# print(b)\n",
        "plt.xlim(-6, 6) \n",
        "plt.ylim(-6, 6) \n",
        "plt.title(f\"Projection Line: w= {m}, b= {b}\", fontsize = 10)\n",
        "ax = plt.gca()\n",
        "ax.set_aspect(1)\n",
        "# plt.figure(dpi=500)\n",
        "plt.show()"
      ],
      "metadata": {
        "colab": {
          "base_uri": "https://localhost:8080/",
          "height": 279
        },
        "id": "Ja_uLxlrzl1Y",
        "outputId": "e9985724-74b3-4853-a3ce-e03379b814a7"
      },
      "execution_count": 36,
      "outputs": [
        {
          "output_type": "display_data",
          "data": {
            "text/plain": [
              "<Figure size 432x288 with 1 Axes>"
            ],
            "image/png": "[encoded data removed]"
          },
          "metadata": {
            "needs_background": "light"
          }
        }
      ]
    }
  ],
  "metadata": {
    "kernelspec": {
      "display_name": "Python 3 (ipykernel)",
      "language": "python",
      "name": "python3"
    },
    "language_info": {
      "codemirror_mode": {
        "name": "ipython",
        "version": 3
      },
      "file_extension": ".py",
      "mimetype": "text/x-python",
      "name": "python",
      "nbconvert_exporter": "python",
      "pygments_lexer": "ipython3",
      "version": "3.10.7"
    },
    "colab": {
      "provenance": [],
      "collapsed_sections": []
    }
  },
  "nbformat": 4,
  "nbformat_minor": 0
}